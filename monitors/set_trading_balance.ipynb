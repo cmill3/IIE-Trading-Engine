{
 "cells": [
  {
   "cell_type": "code",
   "execution_count": 6,
   "metadata": {},
   "outputs": [],
   "source": [
    "import boto3\n",
    "import pandas as pd\n",
    "from datetime import datetime\n",
    "import pytz"
   ]
  },
  {
   "cell_type": "code",
   "execution_count": 10,
   "metadata": {},
   "outputs": [
    {
     "data": {
      "text/plain": [
       "{'ResponseMetadata': {'RequestId': '421MFQ69Q2ZGTCJR',\n",
       "  'HostId': 'lXVGqSb2TT2GPYrYWBQ/q2igR1oDy2Uaj/0iPKoOyoMN83HvYTekhZoixeDERmWmOvDWKv6X6K6UjZrYBeFvLUJrV4D2ny0XVrJC/U7UCag=',\n",
       "  'HTTPStatusCode': 200,\n",
       "  'HTTPHeaders': {'x-amz-id-2': 'lXVGqSb2TT2GPYrYWBQ/q2igR1oDy2Uaj/0iPKoOyoMN83HvYTekhZoixeDERmWmOvDWKv6X6K6UjZrYBeFvLUJrV4D2ny0XVrJC/U7UCag=',\n",
       "   'x-amz-request-id': '421MFQ69Q2ZGTCJR',\n",
       "   'date': 'Wed, 28 Feb 2024 18:33:57 GMT',\n",
       "   'x-amz-server-side-encryption': 'AES256',\n",
       "   'etag': '\"f9b45062152f20e5a592a3753729109b\"',\n",
       "   'server': 'AmazonS3',\n",
       "   'content-length': '0'},\n",
       "  'RetryAttempts': 0},\n",
       " 'ETag': '\"f9b45062152f20e5a592a3753729109b\"',\n",
       " 'ServerSideEncryption': 'AES256'}"
      ]
     },
     "execution_count": 10,
     "metadata": {},
     "output_type": "execute_result"
    }
   ],
   "source": [
    "### SET BALANCE DEV\n",
    "s3 = boto3.client('s3')\n",
    "starting_balance_dict = [{'date': '2024-02-28:13:29', 'balance': 25000.00},{'date': '2024-02-28:13:29', 'balance': 25000.00}]\n",
    "env = 'DEV'\n",
    "df = pd.DataFrame(starting_balance_dict)\n",
    "now = datetime.now().astimezone(pytz.timezone('US/Eastern'))\n",
    "date_str = now.strftime(\"%Y/%m/%d/%H/%M\")\n",
    "s3.put_object(Bucket='inv-alerts-trading-data', Key=f'trading_balance/{env}/{date_str}.csv', Body=df.to_csv(index=False))"
   ]
  }
 ],
 "metadata": {
  "kernelspec": {
   "display_name": "inv-alerts-pipeline-hV3FH9oa",
   "language": "python",
   "name": "python3"
  },
  "language_info": {
   "codemirror_mode": {
    "name": "ipython",
    "version": 3
   },
   "file_extension": ".py",
   "mimetype": "text/x-python",
   "name": "python",
   "nbconvert_exporter": "python",
   "pygments_lexer": "ipython3",
   "version": "3.9.18"
  }
 },
 "nbformat": 4,
 "nbformat_minor": 2
}
